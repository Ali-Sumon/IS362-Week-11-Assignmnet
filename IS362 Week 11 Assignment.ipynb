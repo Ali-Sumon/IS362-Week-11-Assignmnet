{
 "cells": [
  {
   "cell_type": "code",
   "execution_count": null,
   "id": "85320c6b",
   "metadata": {},
   "outputs": [],
   "source": [
    " Import numpy\n",
    "import numpy as np\n",
    "# Import Pandas\n",
    "import pandas as pd\n",
    "# import the requests library to send http requests to the NYT API\n",
    "import requests\n",
    "# import json library for parsing JSON and converting JSON to python dictionaries\n",
    "import json as json\n"
   ]
  },
  {
   "cell_type": "code",
   "execution_count": 7,
   "id": "f8738eaf",
   "metadata": {},
   "outputs": [
    {
     "ename": "SyntaxError",
     "evalue": "EOL while scanning string literal (2877769392.py, line 2)",
     "output_type": "error",
     "traceback": [
      "\u001b[0;36m  File \u001b[0;32m\"/var/folders/2h/9gsgk1rx2n7bwsnmz2czczy40000gn/T/ipykernel_28385/2877769392.py\"\u001b[0;36m, line \u001b[0;32m2\u001b[0m\n\u001b[0;31m    url = \"\u001b[0m\n\u001b[0m           ^\u001b[0m\n\u001b[0;31mSyntaxError\u001b[0m\u001b[0;31m:\u001b[0m EOL while scanning string literal\n"
     ]
    }
   ],
   "source": [
    "#Set the URL and the API key\n",
    "url = \"\n",
    "https://ttps://api.nytimes.com/svc/movies/v2/reviews/search.json?query=godfather&api-key=yourkey\"\n",
    "api_key = \"gaFx8u1XOlX7y6cus2oMcfjAsabFwLIU\"\n",
    "\n",
    "#Make the API request and parse the JSON response\n",
    "response = requests.get(url, params={\"api-key\": api_key})\n",
    "if response.status_code == 200:\n",
    "    data = /reviews/picks.json\n",
    "else:\n",
    "    print(\"Error retrieving data from API\")\n",
    "\n",
    "#Extract the list of movies from the JSON response and create a Pandas DataFrame\n",
    "movie reviews = data[\"results\"][\"movie reviews\"]\n",
    "nytbooksdf = pd.DataFrame.from_records(movie reviews) \n",
    "\n",
    "#Display the dataframe\n",
    "print(nytmoviereviews.head())"
   ]
  },
  {
   "cell_type": "code",
   "execution_count": null,
   "id": "fe158171",
   "metadata": {},
   "outputs": [],
   "source": []
  }
 ],
 "metadata": {
  "kernelspec": {
   "display_name": "Python 3 (ipykernel)",
   "language": "python",
   "name": "python3"
  },
  "language_info": {
   "codemirror_mode": {
    "name": "ipython",
    "version": 3
   },
   "file_extension": ".py",
   "mimetype": "text/x-python",
   "name": "python",
   "nbconvert_exporter": "python",
   "pygments_lexer": "ipython3",
   "version": "3.9.13"
  }
 },
 "nbformat": 4,
 "nbformat_minor": 5
}
